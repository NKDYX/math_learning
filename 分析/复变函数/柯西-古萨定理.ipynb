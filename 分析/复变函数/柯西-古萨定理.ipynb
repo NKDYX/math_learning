{
 "cells": [
  {
   "cell_type": "markdown",
   "metadata": {},
   "source": [
    "# 柯西-古萨定理"
   ]
  },
  {
   "attachments": {},
   "cell_type": "markdown",
   "metadata": {},
   "source": [
    "设D是C(复平面)中的单连通区域，如果$f\\in H(D)$(f在D上处处解析)，那么对于D中任意可求长(不是所有曲线都可求长，例如f(x)=xsin($\\frac{1}{x})$的图像)闭(起点终点重合)曲线$\\gamma$,均有$\\int_\\gamma f(z)dz=0$\n",
    "## 理解定理成立的原因\n",
    "柯西-古萨定理成立的本质原因是单连通域上的全纯(处处解析)函数必有原函数，$\\int_\\gamma f(z)dz=\\int_a^bf(\\gamma(t))\\gamma'(t)dt=F(\\gamma(b))-F(\\gamma(a))=0(\\gamma是闭曲线)$\n",
    "## 一类特殊的积分（与复变函数核心理论紧密相关的重要的积分）\n",
    "计算积分$\\int_\\gamma \\frac{dz}{(z-a)^n}$，这里n是任意整数，$\\gamma$是以a为中心，r为半径的圆周。  \n",
    "$\\gamma$的参数方程为$z=a+re^{it},0\\leq t\\leq 2\\pi$。  \n",
    "$\\int_\\gamma \\frac{dz}{(z-a)^n}=\\int_0^{2\\pi} \\frac{rie^{it}dt}{r^ne^{int}}$  \n",
    "$=r^{1-n}i\\int_0^{2\\pi} \\frac{dt}{e^{i(n-1)t}}$  \n",
    "$=\\begin{cases}\n",
    "2\\pi i & n=1  \\\\\n",
    "0  & n\\neq 1\\\\\n",
    "\\end{cases}$\n",
    "## 复变函数曲线积分的特殊例子（证明柯西-古萨定理的引理）\n",
    "曲线:$\\gamma(t),t\\in [a,b]$  \n",
    "$\\int_\\gamma dz=\\int_a^b\\gamma'(t)dt=\\gamma(b)-\\gamma(a)$  \n",
    "$\\int_\\gamma zdz=\\int_a^b\\gamma(t)\\gamma'(t)dt=\\frac{1}{2}(\\gamma(b)^2-\\gamma(a)^2)$\n",
    "## 柯西-古萨定理证明简述\n",
    "1. $\\gamma$可以用一个多边形序列逼近，由于曲线可求长，那么多边形序列对应柯西-古萨定理的目标积分值也会向$\\gamma$相应的积分值逼近。  \n",
    "2. 多边形可以剖分成多个三角形。\n",
    "<img src=\"1.png\" width=256 height=256 />\n",
    "可以看到，内部的积分相互抵消，多边形的积分就是每一个三角形积分的加和。\n",
    "3. 对于一个三角形上积分的情况，我们可以通过连接中点不断剖分。\n",
    "<img src=\"2.png\" width=256 height=256 />\n",
    "\n",
    "注意到每次剖分形成四个新的三角形，将其中对应积分值最大的一个设为$\\gamma_n$  \n",
    "显然有$\\gamma_n\\geq \\frac{M}{4^n}(本质上是|a|+|b|+|c|+|d|\\geq|a+b+c+d|),M=\\int_\\gamma f(z)dz,\\gamma $是原始的三角形，设其周长为L  \n",
    "由于f(z)在D上解析，故而处处可导，那么:$|f(z)-f(z_0)-f'(z_0)(z-z)|<\\epsilon |z-z_0|$  \n",
    "又因为:$\\int_\\gamma f(z)-f(z_0)-f'(z_0)(z-z_0)dz=\\int_\\gamma f(z)dz-f(z_0)\\int_\\gamma dz-f'(z_0)\\int_\\gamma zdz+f'(z_0)z_0\\int_\\gamma dz=\\int_\\gamma f(z)dz+0+0+0=\\int_\\gamma f(z)dz$  \n",
    "由于$|z-z_0|<\\frac{L}{2^n}$,L是三角形的周长,那么$\\frac{M}{4^n}\\leq\\int_\\gamma f(z)dz\\leq\\epsilon \\frac{L^2}{4^n}$,$\\epsilon$随着三角形的缩小而任意的缩小，那么$M\\leq \\epsilon L^2$,由于$\\epsilon$可以任意小，那么$M=0$\n",
    "## 条件的减弱\n",
    "事实上我们可以减弱柯西-古萨定理的条件，只需f(z)在可求长闭曲线$\\gamma$内部处处解析，在$\\gamma$上处处连续即可成立$\\int_\\gamma f(z)dz=0$。"
   ]
  }
 ],
 "metadata": {
  "kernelspec": {
   "display_name": "Python 3",
   "language": "python",
   "name": "python3"
  },
  "language_info": {
   "codemirror_mode": {
    "name": "ipython",
    "version": 3
   },
   "file_extension": ".py",
   "mimetype": "text/x-python",
   "name": "python",
   "nbconvert_exporter": "python",
   "pygments_lexer": "ipython3",
   "version": "3.6.3"
  }
 },
 "nbformat": 4,
 "nbformat_minor": 4
}
