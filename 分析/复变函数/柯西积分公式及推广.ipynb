{
 "cells": [
  {
   "cell_type": "markdown",
   "metadata": {},
   "source": [
    "# 柯西积分公式\n",
    "设D是可求长闭曲线$\\gamma$围成的域，如果f在D上解析，在$\\gamma$上连续，那么对于任意$z\\in D$,均有$f(z)=\\frac{1}{2\\pi i}\\int_\\gamma \\frac{f(\\zeta)}{\\zeta -z}d\\zeta$。  \n",
    "证明的关键在于以下化简:$\\frac{1}{2\\pi i}\\int_\\gamma \\frac{f(\\zeta)}{\\zeta -z}d\\zeta-f(z)=\\frac{1}{2\\pi i}\\int_\\gamma \\frac{f(\\zeta)-f(z)}{\\zeta -z}d\\zeta$，由柯西-古萨定理这是显然的。  \n",
    "由柯西-古萨定理，$\\gamma$完全可以缩小为一个以z为圆心，$\\delta$为半径的圆而不改变积分的大小，因为$\\frac{f(\\zeta)}{\\zeta -z}$在D上除了z点以外的点解析。\n",
    "<img src=\"3.png\" width=256 height=256 />\n",
    "此时，$|\\frac{1}{2\\pi i}\\int_\\gamma \\frac{f(\\zeta)-f(z)}{\\zeta -z}d\\zeta|\\leq |\\frac{1}{2\\pi i}|\\int_\\gamma \\frac{|f(\\zeta)-f(z)|}{|\\zeta -z|}d\\zeta\\leq \\frac{\\epsilon}{2\\pi\\delta}\\int_\\gamma d\\zeta=\\epsilon$  \n",
    "由于$\\epsilon$可以任意小($f(\\zeta)$在z点是解析的，故而可导，故而可微，自然连续)，那么柯西积分公式自然成立。  \n",
    "  \n",
    "例:求$\\oint_{|z|=1}\\frac{e^z}{z-\\frac{1}{2}}dz$  \n",
    "解:$\\oint_{|z|=1}\\frac{e^z}{z-\\frac{1}{2}}dz=2\\pi ie^{\\frac{1}{2}}$\n",
    "# 高阶导数公式\n",
    "设D是可求长闭曲线$\\gamma$围成的域，如果f在D上解析，在$\\gamma$上连续，那么对于任意$z\\in D$,f有任意阶导数且$f^{(n)}(z)=\\frac{n!}{2\\pi i}\\int_\\gamma\\frac{f(\\zeta)}{(\\zeta-z)^{n+1\\;}} d\\zeta$  \n",
    "证明过程分为两步:\n",
    "1. 由于f在D上解析，在$\\gamma$上连续，由柯西积分公式$f(z)=\\frac{1}{2\\pi i}\\int_\\gamma \\frac{f(\\zeta)}{\\zeta -z}d\\zeta$。  \n",
    "设$\\gamma$是C中一条可求长(不需要闭)曲线，g是$\\gamma$上的连续函数(不需要在某个域中解析，是狭义的复变函数定义不能取值复平面无穷远点)，如果$z\\in C\\backslash\\gamma$，那么$\\frac{1}{2\\pi i}\\int_\\gamma \\frac{g(\\zeta)}{\\zeta -z}d\\zeta$总是有定义($\\gamma$上连续是可积的充分条件),从而定义了一个$C\\backslash\\gamma$上的函数$G(z)=\\frac{1}{2\\pi i}\\int_\\gamma \\frac{g(\\zeta)}{\\zeta -z}d\\zeta$，称其为柯西型积分。  \n",
    "2. 柯西型积分有非常好的性质，即:  \n",
    "$G^{(n)}(z)=\\frac{n!}{2\\pi i}\\int_\\gamma\\frac{g(\\zeta)}{(\\zeta-z)^{n+1}} d\\zeta$  \n",
    "有了这个性质，高阶导数公式就是显然的了，那么以下证明此性质。  \n",
    "对于任意$z_0\\in C\\backslash\\gamma$,$\\rho=inf_{\\zeta\\in\\gamma}(|\\zeta-z_0|)$,我们研究以$z_0$为圆心以$\\delta=min(1,\\rho/2)$为半径的开球(即不包含边界)中G(z)的性质，这显然是足够的，因为我们只需要一个邻域(某点的领域是一个包含包含某点的开集的区域)就可以研究各阶导数的性质。这里$\\delta$显然是大于0的，因为$z_0$不在$\\gamma$上，所以我们研究的区域不是单点集，符合邻域的定义。这里之所以要求$\\delta< 1$是为了使得后续化简中$|z-z_0|$的低阶项成为影响收敛的主项,要求$\\delta< inf_{\\zeta\\in\\gamma}(|\\zeta-z_0|)$是因为我们需要$\\frac{|z-z_0|}{|\\zeta-z_0|}<\\frac{1}{2}$的条件进行估计。  \n",
    "使用归纳法证明，n=1时:  \n",
    "$\\frac{1}{\\zeta-z}=\\frac{1}{\\zeta-z_0}\\frac{1}{1-\\frac{z-z_0}{\\zeta-z_0}}$(都化为以$z_0$为圆心的距离，便于估计和处理)  \n",
    "$=\\frac{1}{\\zeta-z_0}(1+\\frac{z-z_0}{\\zeta-z_0}+h(z,\\zeta))$(等比数列求和)  \n",
    "$|h(z,\\zeta)|\\leq(|\\frac{z-z_0}{\\zeta-z_0}|)^2\\sum_{n=0}^{\\infty}|\\frac{z-z_0}{\\zeta-z_0}|^n\\leq2(|\\frac{z-z_0}{\\zeta-z_0}|)^2\\leq\\frac{2}{\\rho^2}|z-z_0|^2$  \n",
    "$G(z)=\\frac{1}{2\\pi i}\\int_\\gamma \\frac{g(\\zeta)}{\\zeta -z_0}d\\zeta+\\frac{z-z_0}{2\\pi i}\\int_\\gamma \\frac{g(\\zeta)}{(\\zeta -z_0)^2}d\\zeta+\\frac{1}{2\\pi i}\\int_\\gamma \\frac{g(\\zeta)h(z,\\zeta)}{\\zeta -z_0}d\\zeta$$\\quad(\\frac{1}{\\zeta-z}=\\frac{1}{\\zeta-z_0}(1+\\frac{z-z_0}{\\zeta-z_0}+h(z,\\zeta)))$  \n",
    "从而$G(z)-G(z_0)=\\frac{z-z_0}{2\\pi i}\\int_\\gamma \\frac{g(\\zeta)}{(\\zeta -z_0)^2}d\\zeta+\\frac{1}{2\\pi i}\\int_\\gamma \\frac{g(\\zeta)h(z,\\zeta)}{\\zeta -z_0}d\\zeta\\quad(h(z_0,\\zeta)=0,$因$0\\leq h(z,\\zeta)\\leq\\frac{2}{\\rho^2}|z-z_0|^2)$  \n",
    "故而$\\frac{G(z)-G(z_0)}{z-z_0}=\\frac{1}{2\\pi i}\\int_\\gamma \\frac{g(\\zeta)}{(\\zeta -z_0)^2}d\\zeta+\\frac{1}{2\\pi i(z-z_0)}\\int_\\gamma \\frac{g(\\zeta)h(z,\\zeta)}{(\\zeta -z_0)}d\\zeta……(*)$  \n",
    "设$M=sup_{\\zeta\\in\\gamma}|g(\\zeta)|\\,(\\gamma是可求长的，长度有限，故而M不会是无穷大),|\\frac{1}{2\\pi i(z-z_0)}\\int_\\gamma \\frac{g(\\zeta)h(z,\\zeta)}{(\\zeta -z_0)}d\\zeta|\\leq\\frac{1}{2\\pi|z-z_0|}\\int_\\gamma \\frac{M\\frac{2}{\\rho^2} |z-z_0|^2}{\\rho}d\\zeta=\\frac{M|\\gamma|}{\\pi\\rho^3}|z-z_0|$  \n",
    "得到归纳法初始条件$G'(z_0)=\\frac{1}{2\\pi i}\\int_\\gamma \\frac{g(\\zeta)}{(\\zeta -z_0)^2}d\\zeta\\quad((*)两边同时使z\\rightarrow z_0)$  \n",
    "若n=k时，$G^{(k)}(z)=\\frac{k!}{2\\pi i}\\int_\\gamma\\frac{g(\\zeta)}{(\\zeta-z)^{k+1}} d\\zeta$  \n",
    "$\\frac{1}{(\\zeta-z)^{k+1}}=\\frac{1}{(\\zeta-z_0)^{k+1}}(1+\\frac{z-z_0}{\\zeta-z_0}+h(z,\\zeta))^{k+1}=\\frac{1}{(\\zeta-z_0)^{k+1}}(1+(k+1)\\frac{z-z_0}{\\zeta-z_0}+H(z,\\zeta)\\,)\\quad(二项式定理)$  \n",
    "$|H(z,\\zeta)|\\leq C|z-z_0|^2,C>0$$\\quad|z-z_0|$的低阶项是主项,二项式定理确定了$\\frac{z-z_0}{\\zeta-z_0}$的零阶和一阶项($\\frac{1}{|\\zeta-z_0|}\\leq\\frac{1}{\\rho}$),剩下都是二次以上  \n",
    "$G^{(k)}(z)=\\frac{k!}{2\\pi i}\\int_\\gamma\\frac{g(\\zeta)}{(\\zeta-z_0)^{k+1}} d\\zeta+\\frac{(k+1)!(z-z_0)}{2\\pi i}\\int_\\gamma \\frac{g(\\zeta)}{(\\zeta -z_0)^{k+2}}d\\zeta+\\frac{k!}{2\\pi i}\\int_\\gamma\\frac{g(\\zeta)H(z,\\zeta)}{(\\zeta-z_0)^{k+1}} d\\zeta$$\\quad(\\frac{1}{(\\zeta-z)^{k+1}}=\\frac{1}{(\\zeta-z_0)^{k+1}}(1+(k+1)\\frac{z-z_0}{\\zeta-z_0}+H(z,\\zeta)\\,)\\,)$   \n",
    "$G^{(k)}(z)-G^{(k)}(z_0)=\\frac{(k+1)!(z-z_0)}{2\\pi i}\\int_\\gamma \\frac{g(\\zeta)}{(\\zeta -z_0)^{k+2}}d\\zeta+\\frac{k!}{2\\pi i}\\int_\\gamma\\frac{g(\\zeta)H(z,\\zeta)}{(\\zeta-z_0)^{k+1}} d\\zeta\\quad(H(z_0,\\zeta)=0,$因$0\\leq H(z,\\zeta)\\leq C|z-z_0|^2)$  \n",
    "同理，有$G^{(k+1)}(z)=\\frac{(k+1)!}{2\\pi i}\\int_\\gamma\\frac{g(\\zeta)}{(\\zeta-z)^{k+2}} d\\zeta$  \n",
    "那么n=k+1时假设也成立，由归纳法，归纳假设得证。"
   ]
  },
  {
   "cell_type": "markdown",
   "metadata": {},
   "source": [
    "# 代数学基本定理\n",
    "## 柯西不等式\n",
    "设f在B(a,R)(以a为圆心，R为半径的开球，开球即欧式空间(每一点的切空间即全空间，完全平坦的线性空间，复平面是一个具体例子)中不包含边界的球)中处处解析，对于任意$z\\in B(a,R)$,有$|f(z)|\\leq M$,那么$|f^{(n)}(a)|\\leq\\frac{n!M}{R^n}$  \n",
    "由于缺少边界，这里我们也是采用极限的方法来证明:  \n",
    "取$0<r<R$,那么f在$B(a,r)$上解析，在$|z|=r$上连续，从而$|f^{(n)}(a)|=|\\frac{n!}{2\\pi i}\\int_{|z-a|=r}\\frac{f(\\zeta)}{(\\zeta-a)^{n+1}}d\\zeta|\\leq \\frac{n!}{2\\pi}\\frac{M}{r^{n +1}}2\\pi r=\\frac{n!M}{r^n}$  \n",
    "从而$r\\rightarrow R$时，$|f^{(n)}(a)|\\leq \\frac{n!M}{R^n}$  \n",
    "## 刘维尔定理\n",
    "在复平面上处处解析的有界函数必为常数  \n",
    "由柯西不等式，我们显然有$|f'(a)|\\leq \\frac{M}{R}$,注意到这个R是任意的，故而在整个复平面上$f'(a)=0$,得证。  \n",
    "## 代数基本定理\n",
    "任意复系数首一(即最高幂次的系数是1)多项式P，在复平面上必有零点。  \n",
    "证明的关键在于构造$f(z)=\\frac{1}{P(z)}$,如果P(z)没有零点。那么对应的f在复平面上处处解析。另外，由于$\\lim\\limits_{z\\rightarrow\\infty}|P(z)|=\\infty$,那么可以找到一个R，使得$|z|>R$时，$|P(z)|\\geq 1$,从而$|f(z)|\\leq 1$,而$|z|\\leq R$是紧集(这里涉及到一些拓扑学的知识，在欧式空间的特例中，紧集等价于有界闭集)，紧集上定义的函数的最值都存在而且可以在紧集上的某个点处取到，故而在$|z|\\leq R$上f也是有界的(因为f本身作为复变函数值域不包含复平面的无限远点)。那么f是在复平面上处处解析而且有界的函数，f只能是常数。矛盾，故而$P(z)$必有零点。"
   ]
  },
  {
   "cell_type": "code",
   "execution_count": null,
   "metadata": {},
   "outputs": [],
   "source": []
  }
 ],
 "metadata": {
  "kernelspec": {
   "display_name": "Python 3",
   "language": "python",
   "name": "python3"
  },
  "language_info": {
   "codemirror_mode": {
    "name": "ipython",
    "version": 3
   },
   "file_extension": ".py",
   "mimetype": "text/x-python",
   "name": "python",
   "nbconvert_exporter": "python",
   "pygments_lexer": "ipython3",
   "version": "3.6.3"
  }
 },
 "nbformat": 4,
 "nbformat_minor": 4
}
