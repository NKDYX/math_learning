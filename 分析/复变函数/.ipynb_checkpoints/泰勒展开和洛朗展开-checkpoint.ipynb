{
 "cells": [
  {
   "cell_type": "markdown",
   "metadata": {},
   "source": [
    "# 泰勒展开\n",
    "若$f\\in H(B(z_0,R))$,则f可以在$B(z_0,R)$中展开成幂级数$f(z)=\\sum_{n=0}^{\\infty}\\frac{f^{(n)}(z_{\\,0})}{n!}(z-z_0)^n,z\\in B(z_0,R)$,右端的级数称为f的泰勒级数。  \n",
    "证明分为三步:  \n",
    "1. 用柯西积分公式表示原函数  \n",
    "对于$z\\in B(z_0,R)$ 要做到这一点,我们取$|z-z_0|<\\rho<R$,那么在$\\gamma_{\\rho}=\\{\\zeta:|\\zeta-z_0|=\\rho\\}$上，我们使用柯西积分公式$f(z)=\\frac{1}{2\\pi i}\\int_{\\gamma_{\\rho}}\\frac{f(\\zeta)}{\\zeta-z}d\\zeta$。  \n",
    "2. 将柯西型积分的积分函数转化成$B(z_0,R)$中一致收敛的函数项级数  \n",
    "$\\frac{1}{\\zeta-z}=\\frac{1}{\\zeta-z_0}\\frac{1}{1-\\frac{z-z_0}{\\zeta-z_0}}=\\frac{1}{\\zeta-z_0}\\sum_{n=0}^{\\infty}(\\frac{z-z_0}{\\zeta-z_0})^n$(以$z_0$为心展开),因为$|\\frac{z-z_0}{\\zeta-z_0}|=\\frac{|z-z_0|}{\\rho}<1$。从而我们有转化$\\frac{f(\\zeta)}{\\zeta-z}=\\sum_{n=0}^{\\infty}\\frac{f(\\zeta)}{\\zeta-z_0}(\\frac{z-z_0}{\\zeta-z_0})^n$,由于$|\\frac{f(\\zeta)}{\\zeta-z_0}(\\frac{z-z_0}{\\zeta-z_0})^n|\\leq\\frac{M}{\\rho}(\\frac{|z-z_0|}{\\rho})^n$,那么由维尔斯特拉斯判敛法(见幂级数)，该级数是一致收敛到$\\gamma_{\\rho}$。\n",
    "3. 逐项积分  \n",
    "$f(z)=\\frac{1}{2\\pi i}\\int_{\\gamma_{\\rho}}\\frac{f(\\zeta)}{\\zeta-z}d\\zeta=\\frac{1}{2\\pi i}\\int_{\\gamma_{\\rho}}\\sum_{n=0}^{\\infty}\\frac{f(\\zeta)}{\\zeta-z_0}(\\frac{z-z_0}{\\zeta-z_0})^nd\\zeta=\\sum_{n=0}^{\\infty}\\frac{1}{2\\pi i}(\\int_{\\gamma_{\\rho}}\\frac{f(\\zeta)}{(\\zeta-z_0)^{n+1}}d\\zeta)(z-z_0)^n$  \n",
    "最后，泰勒展开系数显然是唯一的，因为如果有其它展开$f(z)=\\sum_{n=0}^{\\infty}a_n(z-z_0)^n,z\\in B(z_0,R)$,对f求n阶导数并取$z=z_0$,马上有$a_n=\\frac{f^{(n)}(z_{\\,0})}{n!}$。由阿贝尔定理，幂级数在收敛圆内是一致收敛的，从而有必要条件内闭一致收敛，由于幂级数每一项显然解析，逐项求导是成立的。\n",
    "\n",
    "## 证明复变函数相等的工具\n",
    "很容易证明，在域D中处处解析的函数只要在D中一个小开球里面恒等于0那么泰勒展开可以将这个0值传播到整个D上。  \n",
    "从而定义在域D上的，不是恒为0的复变函数如果有0点，0点也是孤立的(即存在一个包含该零点的小开球，小开球中只有一个零点)。\n",
    "那么两个定义在域D上的处处解析的复变函数$f_1,f_2$如果在复数列{$z_n$}上函数值处处相等，且$z_n\\rightarrow a\\in D$,那么这两个函数就是相等的。  证明的关键在于构造$g=f_1-f_2$,两个函数在a处的值由于连续性(解析必连续)也相等，那么a处的零点不是孤立零点，那么g必然在D上恒等于0，从而两个函数相等。  \n",
    "这个工具的威力是巨大的，比如我们已知$e^x$在实数轴上的泰勒展开，我们断言$e^z$在复平面上的泰勒展开有相同的形式，这是因为实数轴上展开的形式和$e^z$有满足条件的那么一个使得对应函数值相等的复数列{$z_n$}(事实上就是在实轴上任取一个收敛数列)"
   ]
  },
  {
   "cell_type": "markdown",
   "metadata": {},
   "source": [
    "# 洛朗展开\n",
    "设$D=\\{z:r<|z-z_0|<R\\}$,若$f\\in H(D)$,则f可以在D中展开成洛朗级数$f(z)=\\sum_{n=-\\infty}^{\\infty}a_n(z-z_0)^n,z\\in D$,右端的级数称为f的洛朗级数,其中$a_n=\\frac{1}{2\\pi i}\\int_{\\gamma_{\\rho}}\\frac{f(\\zeta)}{(\\zeta-z_0)^{n+1}}d\\zeta$,$\\gamma_{\\rho}=\\{\\zeta:|\\zeta-z_0|=\\rho\\}$,$r<\\rho<R$。  \n",
    "<img src=\"4.png\" width=256 height=256 />\n",
    "和泰勒展开的三步证明完全相同: \n",
    "1. 用柯西积分公式表示原函数\n",
    "对于$z\\in D$ 要做到这一点,我们取$r<r_1<|z-z_0|<r_2<R$,那么在$\\gamma_{\\rho_i}=\\{\\zeta:|\\zeta-z_0|=r_i\\}$上，我们使用柯西积分公式$f(z)=\\frac{1}{2\\pi i}\\int_{\\gamma_{\\rho_2}}\\frac{f(\\zeta)}{\\zeta-z}d\\zeta-\\frac{1}{2\\pi i}\\int_{\\gamma_{\\rho_1}}\\frac{f(\\zeta)}{\\zeta-z}d\\zeta$。  \n",
    "2. 将柯西型积分的积分函数转化成$D$中一致收敛的函数项级数  \n",
    "$\\frac{1}{\\zeta-z}=\\frac{1}{\\zeta-z_0}\\frac{1}{1-\\frac{z-z_0}{\\zeta-z_0}}=\\frac{1}{\\zeta-z_0}\\sum_{n=0}^{\\infty}(\\frac{z-z_0}{\\zeta-z_0})^n$(以$z_0$为心展开),因为$|\\frac{z-z_0}{\\zeta-z_0}|=\\frac{|z-z_0|}{r_2}<1$。从而我们有转化$\\frac{f(\\zeta)}{\\zeta-z}=\\sum_{n=0}^{\\infty}\\frac{f(\\zeta)}{\\zeta-z_0}(\\frac{z-z_0}{\\zeta-z_0})^n$,由于$|\\frac{f(\\zeta)}{\\zeta-z_0}(\\frac{z-z_0}{\\zeta-z_0})^n|\\leq\\frac{M}{r_2}(\\frac{|z-z_0|}{r_2})^n$,那么由维尔斯特拉斯判敛法(见幂级数)，该级数是一致收敛到$\\gamma_2$。  \n",
    "$\\frac{1}{\\zeta-z}=-\\frac{1}{z-z_0}\\frac{1}{1-\\frac{\\zeta-z_0}{z-z_0}}=-\\frac{1}{z-z_0}\\sum_{n=0}^{\\infty}(\\frac{\\zeta-z_0}{z-z_0})^n$(以$z_0$为心展开),因为$|\\frac{\\zeta-z_0}{z-z_0}|=\\frac{r_1}{|z-z_0|}<1$。从而我们有转化$\\frac{f(\\zeta)}{\\zeta-z}=-\\sum_{n=0}^{\\infty}\\frac{f(\\zeta)}{z-z_0}(\\frac{\\zeta-z_0}{z-z_0})^n$,由于$|\\frac{f(\\zeta)}{z-z_0}(\\frac{\\zeta-z_0}{z-z_0})^n|\\leq\\frac{M}{|z-z_0|}(\\frac{r_1}{|z-z_0|})^n$,那么由维尔斯特拉斯判敛法(见幂级数)，该级数是一致收敛到$\\gamma_1$。\n",
    "3. 逐项积分  \n",
    "$f(z)=\\frac{1}{2\\pi i}\\int_{\\gamma_{\\rho_2}}\\frac{f(\\zeta)}{\\zeta-z}d\\zeta-\\frac{1}{2\\pi i}\\int_{\\gamma_{\\rho_1}}\\frac{f(\\zeta)}{\\zeta-z}d\\zeta=\\frac{1}{2\\pi i}\\int_{\\gamma_{\\rho}}\\frac{f(\\zeta)}{\\zeta-z}d\\zeta-\\frac{1}{2\\pi i}\\int_{\\gamma_{\\rho}}\\frac{f(\\zeta)}{\\zeta-z}d\\zeta=\\sum_{n=-\\infty}^{\\infty}\\frac{1}{2\\pi i}(\\int_{\\gamma_{\\rho}}\\frac{f(\\zeta)}{(\\zeta-z_0)^{n+1}}d\\zeta)(z-z_0)^n$  \n",
    "最后，洛朗展开系数显然是唯一的，因为如果有其它展开$f(z)=\\sum_{n=-\\infty}^{\\infty}a'_n(z-z_0)^n,z\\in D$,对f求n阶导数并取$z=z_0$,由于级数在$\\gamma_\\rho$上一致收敛，所以逐项积分$\\frac{1}{2\\pi i}\\int_{\\gamma_\\rho}\\frac{f(\\zeta)}{(\\zeta-z_0)^{(m+1)}}\\;d\\zeta=\\sum_{n=-\\infty}^{\\infty}a'_n\\frac{1}{2\\pi i}\\int_{\\gamma_\\rho}{(\\zeta-z_0)^{(n-m-1)}}\\;d\\zeta=a'_m\\quad$(参见柯西-古萨定理中提到的一类特殊积分)"
   ]
  }
 ],
 "metadata": {
  "kernelspec": {
   "display_name": "Python 3",
   "language": "python",
   "name": "python3"
  },
  "language_info": {
   "codemirror_mode": {
    "name": "ipython",
    "version": 3
   },
   "file_extension": ".py",
   "mimetype": "text/x-python",
   "name": "python",
   "nbconvert_exporter": "python",
   "pygments_lexer": "ipython3",
   "version": "3.6.3"
  }
 },
 "nbformat": 4,
 "nbformat_minor": 4
}
